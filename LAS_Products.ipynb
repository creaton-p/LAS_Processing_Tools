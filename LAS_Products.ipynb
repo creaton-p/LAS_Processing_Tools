{
 "cells": [
  {
   "cell_type": "markdown",
   "metadata": {},
   "source": [
    "LAS file Processing Tools"
   ]
  },
  {
   "cell_type": "markdown",
   "metadata": {},
   "source": [
    "# Tools for Deriving Products from LAS files\n",
    "## Introduction\n",
    "This jupyter notebook is designed to enable the efficient processing of LAS files. LAS files are an industry standard binary format for storing aerial LiDAR data. The python script in this notebook completes a number of processes useful for analysis. \n",
    "**Note:  As this script uses the arcpy package, it can only be run on a  machine with Arcgis Pro installed although ArcGIS Pro doesn't need to be running.**\n",
    "## Workflow\n",
    "The following processes are carried out in this script.\n",
    "1. A Las dataset is created from the LAS files. A LAS dataset is a file storage container for LAS files used by ESRI\n",
    "2. The ground surface is extracted and classified. This is the process where all the points in the cloud are processed and those deemed to form the bare earth surface are given a classification of \"2\" which is the designation for ground points in the LAS specification.\n",
    "3. A digital Surface Model (DSM) of the pointcloud is generated. This is a raster file with the pixels representing the elevation of the non classified cloud.\n",
    "4. A Digital Terrain Model is created of the ground. This is a raster file with the pixels representing the elecation of the points designated as bare earth.\n",
    "5. A difference raster is created by subtracting the DTM from the DSM to show the vegetation height in the area of interest\n",
    "6. If a shapefile is included containing a line feature class representing cross sections then these will be extracted and plotted in the notebook as well as being exported as a jpeg and a CSV file.\n",
    "\n",
    "** A sample dataset containing a LAS file and a shapefile can be downloaded [here](https://drive.google.com/drive/folders/1oWOcZGH8XyItQWyAD-vEmMEGzo5CKYn_?usp=sharing)\n",
    "\n"
   ]
  },
  {
   "cell_type": "code",
   "execution_count": 62,
   "metadata": {},
   "outputs": [],
   "source": [
    "import arcpy\n",
    "import matplotlib.pyplot as plt\n",
    "import geopandas as gpd\n",
    "import numpy as np\n",
    "import pandas as pd\n",
    "import os"
   ]
  },
  {
   "cell_type": "code",
   "execution_count": 70,
   "metadata": {},
   "outputs": [],
   "source": [
    "arcpy_env_workspace = \"C:\\\\DSM_Tools\\\\\"  # enter path and name of workspace here\n",
    "pointcloud_path = r\"C:\\DSM_Tools\\LAS_Processing_Tools\\Pointcloud_Data\\Pointcloud.las\" #enter the path to your LAS files\n",
    "las_dataset_path = \"C:\\\\DSM_Tools\\\\LAS_Processing_Tools\\\\Pointcloud_Data\\\\\"# enter las dataset path here\n",
    "raster_folder = \"C:\\\\DSM_Tools\\\\LAS_Processing_Tools\\\\rasters\\\\\"  #enter path to where output rasters ar to be stored\n",
    "ground_dsm = \"grfhgd_DSM.tif\"\n",
    "raster_full_path = os.path.join(raster_folder, ground_dsm)"
   ]
  },
  {
   "cell_type": "code",
   "execution_count": 71,
   "metadata": {},
   "outputs": [
    {
     "data": {
      "text/html": [
       "<h2>Output</h2>C:\\DSM_Tools\\temp.gdb<h2>Messages</h2>Start Time: Saturday, April 17, 2021 11:01:58 PM<br/>Succeeded at Saturday, April 17, 2021 11:01:58 PM (Elapsed Time: 0.04 seconds)<br/><style>.rendered_html td, .rendered_html th {text-align: left;}.rendered_html tbody {border: 1px solid black;}</style>"
      ],
      "text/plain": [
       "<Result 'C:\\\\DSM_Tools\\\\temp.gdb'>"
      ]
     },
     "execution_count": 71,
     "metadata": {},
     "output_type": "execute_result"
    }
   ],
   "source": [
    "#create a temporary geodatabase in workspace\n",
    "if arcpy.Exists(arcpy_env_workspace +\"temp.gdb\"):\n",
    "    arcpy.Delete_management(arcpy_env_workspace +\"temp.gdb\")\n",
    "arcpy.management.CreateFileGDB(arcpy.env.workspace, 'temp')"
   ]
  },
  {
   "cell_type": "code",
   "execution_count": 73,
   "metadata": {},
   "outputs": [
    {
     "data": {
      "text/html": [
       "<h2>Output</h2>C:\\DSM_Tools\\LAS_Processing_Tools\\Pointcloud_Data\\Pointcloud.lasd<h2>Messages</h2>Start Time: Saturday, April 17, 2021 11:03:26 PM<br/>Succeeded at Saturday, April 17, 2021 11:03:27 PM (Elapsed Time: 1.15 seconds)<br/><style>.rendered_html td, .rendered_html th {text-align: left;}.rendered_html tbody {border: 1px solid black;}</style>"
      ],
      "text/plain": [
       "<Result 'C:\\\\DSM_Tools\\\\LAS_Processing_Tools\\\\Pointcloud_Data\\\\Pointcloud.lasd'>"
      ]
     },
     "execution_count": 73,
     "metadata": {},
     "output_type": "execute_result"
    }
   ],
   "source": [
    "#First make las dataset from pointcloud\n",
    "arcpy.management.CreateLasDataset(pointcloud_path,\n",
    "                                  las_dataset_path+\"Pointcloud.lasd\", \"NO_RECURSION\", None,\n",
    "                                  \"PROJCS['British_National_Grid',GEOGCS['GCS_OSGB_1936',\"\n",
    "                                  \"DATUM['D_OSGB_1936',SPHEROID['Airy_1830',6377563.396,299.3249646]],\"\n",
    "                                  \"PRIMEM['Greenwich',0.0],UNIT['Degree',0.0174532925199433]],\"\n",
    "                                  \"PROJECTION['Transverse_Mercator'],\"\n",
    "                                  \"PARAMETER['False_Easting',400000.0],PARAMETER['False_Northing',-100000.0],\"\n",
    "                                  \"PARAMETER['Central_Meridian',-2.0],PARAMETER['Scale_Factor',0.9996012717],\"\n",
    "                                  \"PARAMETER['Latitude_Of_Origin',49.0],UNIT['Meter',1.0]]\",\n",
    "                                  \"COMPUTE_STATS\", \"ABSOLUTE_PATHS\", \"NO_FILES\")"
   ]
  },
  {
   "cell_type": "code",
   "execution_count": 75,
   "metadata": {},
   "outputs": [
    {
     "data": {
      "text/html": [
       "<h2>Output</h2>C:\\DSM_Tools\\LAS_Processing_Tools\\Pointcloud_Data\\Pointcloud.lasd<h2>Messages</h2>Start Time: Saturday, April 17, 2021 11:03:59 PM<br/>Succeeded at Saturday, April 17, 2021 11:04:31 PM (Elapsed Time: 31.48 seconds)<br/><style>.rendered_html td, .rendered_html th {text-align: left;}.rendered_html tbody {border: 1px solid black;}</style>"
      ],
      "text/plain": [
       "<Result 'C:\\\\DSM_Tools\\\\LAS_Processing_Tools\\\\Pointcloud_Data\\\\Pointcloud.lasd'>"
      ]
     },
     "execution_count": 75,
     "metadata": {},
     "output_type": "execute_result"
    }
   ],
   "source": [
    "##Classify the ground surface\n",
    "\n",
    "arcpy.ddd.ClassifyLasGround(las_dataset_path+\"Pointcloud.lasd\", \n",
    "                            \"AGGRESSIVE\", \"RECLASSIFY_GROUND\", None, \"COMPUTE_STATS\", \"DEFAULT\", None, \n",
    "                            \"PROCESS_EXTENT\")\n"
   ]
  },
  {
   "cell_type": "code",
   "execution_count": 76,
   "metadata": {},
   "outputs": [
    {
     "data": {
      "text/html": [
       "<h2>Output</h2>a Layer object<h2>Messages</h2>Start Time: Saturday, April 17, 2021 11:04:31 PM<br/>Succeeded at Saturday, April 17, 2021 11:04:31 PM (Elapsed Time: 0.04 seconds)<br/><style>.rendered_html td, .rendered_html th {text-align: left;}.rendered_html tbody {border: 1px solid black;}</style>"
      ],
      "text/plain": [
       "<Result 'Pointcloud_LasDatasetLayer'>"
      ]
     },
     "execution_count": 76,
     "metadata": {},
     "output_type": "execute_result"
    }
   ],
   "source": [
    " \n",
    "if arcpy.Exists(\"Pointcloud_LasDatasetLayer\"):\n",
    "    arcpy.Delete_management(\"Pointcloud_LasDatasetLayer\")\n",
    "    \n",
    "\n",
    "arcpy.management.MakeLasDatasetLayer(r\"C:\\Tool\\DSM_Processing\\Pointcloud_Data\\Pointcloud.lasd\", \"Pointcloud_LasDatasetLayer\", \"2\", None, \"INCLUDE_UNFLAGGED\", \"INCLUDE_SYNTHETIC\", \"INCLUDE_KEYPOINT\", \"EXCLUDE_WITHHELD\", None, \"INCLUDE_OVERLAP\")"
   ]
  },
  {
   "cell_type": "code",
   "execution_count": 77,
   "metadata": {},
   "outputs": [
    {
     "data": {
      "text/html": [
       "<h2>Output</h2>C:\\DSM_Tools\\LAS_Processing_Tools\\rasters\\grfhgd_DSM.tif<h2>Messages</h2>Start Time: Saturday, April 17, 2021 11:04:31 PM<br/>Succeeded at Saturday, April 17, 2021 11:04:33 PM (Elapsed Time: 2.51 seconds)<br/><style>.rendered_html td, .rendered_html th {text-align: left;}.rendered_html tbody {border: 1px solid black;}</style>"
      ],
      "text/plain": [
       "<Result 'C:\\\\DSM_Tools\\\\LAS_Processing_Tools\\\\rasters\\\\grfhgd_DSM.tif'>"
      ]
     },
     "execution_count": 77,
     "metadata": {},
     "output_type": "execute_result"
    }
   ],
   "source": [
    "if arcpy.Exists(raster_full_path):\n",
    "    arcpy.Delete_management(raster_full_path)\n",
    "arcpy.conversion.LasDatasetToRaster(\"Pointcloud_LasDatasetLayer\", raster_full_path, \"ELEVATION\", \"BINNING AVERAGE LINEAR\", \"FLOAT\", \"CELLSIZE\", 0.1, 1)\n"
   ]
  },
  {
   "cell_type": "code",
   "execution_count": null,
   "metadata": {},
   "outputs": [],
   "source": []
  }
 ],
 "metadata": {
  "kernelspec": {
   "display_name": "Python 3",
   "language": "python",
   "name": "python3"
  },
  "language_info": {
   "codemirror_mode": {
    "name": "ipython",
    "version": 3
   },
   "file_extension": ".py",
   "mimetype": "text/x-python",
   "name": "python",
   "nbconvert_exporter": "python",
   "pygments_lexer": "ipython3",
   "version": "3.8.5"
  }
 },
 "nbformat": 4,
 "nbformat_minor": 5
}
