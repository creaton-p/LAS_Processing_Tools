{
 "cells": [
  {
   "cell_type": "markdown",
   "id": "b17414e7",
   "metadata": {},
   "source": [
    "LAS file Processing Tools"
   ]
  },
  {
   "cell_type": "markdown",
   "id": "5bfba8cb",
   "metadata": {},
   "source": [
    "# Tools for Deriving Products from LAS files\n",
    "## Introduction\n",
    "This jupyter notebook is designed to enable the efficient processing of LAS files. LAS files are an industry standard binary format for storing aerial LiDAR data. The python script in this notebook completes a number of processes useful for analysis. \n",
    "**Note:  As this script uses the arcpy package, it can only be run on a  machine with Arcgis Pro installed although ArcGIS Pro doesn't need to be running.**\n",
    "## Workflow\n",
    "The following processes are carried out in this script.\n",
    "1. A Las dataset is created from the LAS files. A LAS dataset is a file storage container for LAS files used by ESRI\n",
    "2. The ground surface is extracted and classified. This is the process where all the points in the cloud are processed and those deemed to form the bare earth surface are given a classification of \"2\" which is the designation for ground points in the LAS specification.\n",
    "3. A digital Surface Model (DSM) of the pointcloud is generated. This is a raster file with the pixels representing the elevation of the non classified cloud.\n",
    "4. A Digital Terrain Model is created of the ground. This is a raster file with the pixels representing the elevation of the points designated as bare earth.\n",
    "5. A difference raster is created by subtracting the DTM from the DSM to show the vegetation height in the area of interest\n",
    "6. If a shapefile is included containing a line feature class representing cross sections then these will be extracted and plotted in the notebook as well as being exported as a jpeg and a CSV file.\n",
    "\n",
    "** A sample dataset containing a LAS file and a shapefile can be downloaded [here](https://drive.google.com/drive/folders/1oWOcZGH8XyItQWyAD-vEmMEGzo5CKYn_?usp=sharing)\n",
    "\n"
   ]
  },
  {
   "cell_type": "markdown",
   "id": "ddc825e3",
   "metadata": {},
   "source": [
    "## Cell 1: Impoting the required modules. \n",
    "Click in the cell below a click run to import the necessary python modules. When it is finished you will see a message saying \"Completed\"."
   ]
  },
  {
   "cell_type": "code",
   "execution_count": 4,
   "id": "f8451ffe",
   "metadata": {},
   "outputs": [
    {
     "name": "stdout",
     "output_type": "stream",
     "text": [
      "Completed\n"
     ]
    }
   ],
   "source": [
    "import arcpy\n",
    "import matplotlib.pyplot as plt\n",
    "import geopandas as gpd\n",
    "import numpy as np\n",
    "import pandas as pd\n",
    "import os\n",
    "print('Completed')"
   ]
  },
  {
   "cell_type": "markdown",
   "id": "0a22dc53",
   "metadata": {},
   "source": [
    "## Cell 2: Inputting the variables\n",
    "The cell below requires the user to input the paths and names for various inputs and outputs. If the user is mirroring the same folder naming convention and structure as the default, then no changes are needed. (See the user manual for a full description of the default folder structure). If the user has a different folder structure, then the paths in the variables below need to be altered accordingly.\n",
    "\n",
    "**Note that all but one of the path variables below reference a folder location. For this reason, they are referenced with a double backslash. The user will need to replicate this if copying and pasting a path to their own folder location. The variable \"pointcloud_path\" references the Pointcloud.las file and not the folder containing it so the path to the users own LAS file can be pasted within the quotes. For this reason, the LAS file can have any name.\n",
    "\n",
    "##### arcpy_env_workspace\n",
    "This variable creates a temporary file geodatabase called temp.gdb for storing layers etc while the tool is running. It can be deleted when the session is finished.\n",
    "\n",
    "##### pointcloud_path\n",
    "This is the path to the pointcloud LAS file.\n",
    "\n",
    "##### raster_folder\n",
    "This is the path where the raster output (DTM and DSMs) will be stored\n",
    "\n",
    "##### ground_DSM \n",
    "This is the name of the raster representing the dround surface. The user can use whatever name they choose but the file extension should be .tif format\n",
    "\n",
    "##### surface_model\n",
    "This is the name to be given to the raster representing the DSM. Again the user can choose their own name.\n",
    "\n",
    "The other two variables (**ground_raster_full_path** and **surface_raster_full_path**) are used internally within the code and should not be set by the user."
   ]
  },
  {
   "cell_type": "code",
   "execution_count": 15,
   "id": "0a017f4e",
   "metadata": {},
   "outputs": [
    {
     "name": "stdout",
     "output_type": "stream",
     "text": [
      "Completed\n"
     ]
    }
   ],
   "source": [
    "arcpy_env_workspace = \"C:\\\\DSM_Tools\\\\\"  # enter path and name of workspace here\n",
    "pointcloud_path = r\"C:\\DSM_Tools\\LAS_Processing_Tools\\Pointcloud_Data\\Pointcloud.las\" #enter the path to your LAS files\n",
    "las_dataset_path = \"C:\\\\DSM_Tools\\\\LAS_Processing_Tools\\\\Pointcloud_Data\\\\\"# enter las dataset path here\n",
    "raster_folder = \"C:\\\\DSM_Tools\\\\LAS_Processing_Tools\\\\rasters\\\\\"  #enter path to where output rasters ar to be stored\n",
    "ground_dsm = \"ground_DSM.tif\"\n",
    "surface_model = \"surface_DSM.tif\"\n",
    "ground_raster_full_path = os.path.join(raster_folder, ground_dsm)\n",
    "surface_raster_full_path = os.path.join(raster_folder, ground_dsm)\n",
    "print('Completed')"
   ]
  },
  {
   "cell_type": "markdown",
   "id": "b1f5811d",
   "metadata": {},
   "source": [
    "## Cell 3\n",
    "This cell creates the temporary file geodatabase in the folder specified in the previous cell. If there is a geodatabase of the same name already there, it will be deleted.This cell needs no input from the user and can be run as it is."
   ]
  },
  {
   "cell_type": "code",
   "execution_count": 18,
   "id": "0a7220df",
   "metadata": {},
   "outputs": [
    {
     "data": {
      "text/html": [
       "<h2>Output</h2>C:\\DSM_Tools\\temp.gdb<h2>Messages</h2>Start Time: Thursday, April 22, 2021 9:22:42 PM<br/>Succeeded at Thursday, April 22, 2021 9:22:42 PM (Elapsed Time: 0.03 seconds)<br/><style>.rendered_html td, .rendered_html th {text-align: left;}.rendered_html tbody {border: 1px solid black;}</style>"
      ],
      "text/plain": [
       "<Result 'C:\\\\DSM_Tools\\\\temp.gdb'>"
      ]
     },
     "execution_count": 18,
     "metadata": {},
     "output_type": "execute_result"
    }
   ],
   "source": [
    "#create a temporary geodatabase in workspace\n",
    "if arcpy.Exists(arcpy_env_workspace +\"temp.gdb\"):\n",
    "    arcpy.Delete_management(arcpy_env_workspace +\"temp.gdb\")\n",
    "arcpy.management.CreateFileGDB(arcpy_env_workspace, 'temp')"
   ]
  },
  {
   "cell_type": "markdown",
   "id": "bb4d6df9",
   "metadata": {},
   "source": [
    "## Cell 4\n",
    "This cell uses arcpy to create a las dataset which is a pointer to a set of related las files. The parameters that need to be set here are...\n",
    "\n",
    "Input: \"NO_RECURSION\" - only las files in the input folder are added to the dataset or \"RECURSION\" - las files in subdirectories will be added to the dataset.\n",
    "\n",
    "Surface Constraints: Any polygons or other feature classes to be referenced by the LAS dataset. The default is \"None\". See arcgis pro help for more info if feature types are to be included.\n",
    "\n",
    "Coordinate reference system: This is the EPSG code of the CRS for the LAS files. If this is not set then the CRS will be unknown. The default used here is \"27700\" which is the British National Grid.\n",
    "\n",
    "Compute Stats: This is optional and can be set to \"COMPUTE_STATS\" or \"NO_COMPUTE_STATS\"(default). \n",
    "\n",
    "\n",
    "\n"
   ]
  },
  {
   "cell_type": "code",
   "execution_count": 31,
   "id": "cd4e945e",
   "metadata": {},
   "outputs": [
    {
     "data": {
      "text/html": [
       "<h2>Output</h2>C:\\DSM_Tools\\LAS_Processing_Tools\\Pointcloud_Data\\Pointcloud.lasd<h2>Messages</h2>Start Time: Thursday, April 22, 2021 10:49:04 PM<br/>Succeeded at Thursday, April 22, 2021 10:49:05 PM (Elapsed Time: 1.12 seconds)<br/><style>.rendered_html td, .rendered_html th {text-align: left;}.rendered_html tbody {border: 1px solid black;}</style>"
      ],
      "text/plain": [
       "<Result 'C:\\\\DSM_Tools\\\\LAS_Processing_Tools\\\\Pointcloud_Data\\\\Pointcloud.lasd'>"
      ]
     },
     "execution_count": 31,
     "metadata": {},
     "output_type": "execute_result"
    }
   ],
   "source": [
    "#First make las dataset from pointcloud\n",
    "arcpy.management.CreateLasDataset(pointcloud_path,\n",
    "                                  las_dataset_path+\"Pointcloud.lasd\", \"NO_RECURSION\", None,\n",
    "                                 arcpy.SpatialReference(27700), \"COMPUTE_STATS\")"
   ]
  },
  {
   "cell_type": "markdown",
   "id": "759d6079",
   "metadata": {},
   "source": [
    "## Cell 5\n"
   ]
  },
  {
   "cell_type": "code",
   "execution_count": 7,
   "id": "802ff482",
   "metadata": {},
   "outputs": [
    {
     "data": {
      "text/html": [
       "<h2>Output</h2>C:\\DSM_Tools\\LAS_Processing_Tools\\Pointcloud_Data\\Pointcloud.lasd<h2>Messages</h2>Start Time: Thursday, April 22, 2021 8:29:11 PM<br/>Succeeded at Thursday, April 22, 2021 8:29:47 PM (Elapsed Time: 35.38 seconds)<br/><style>.rendered_html td, .rendered_html th {text-align: left;}.rendered_html tbody {border: 1px solid black;}</style>"
      ],
      "text/plain": [
       "<Result 'C:\\\\DSM_Tools\\\\LAS_Processing_Tools\\\\Pointcloud_Data\\\\Pointcloud.lasd'>"
      ]
     },
     "execution_count": 7,
     "metadata": {},
     "output_type": "execute_result"
    }
   ],
   "source": [
    "##Classify the ground surface\n",
    "\n",
    "arcpy.ddd.ClassifyLasGround(las_dataset_path+\"Pointcloud.lasd\", \n",
    "                            \"AGGRESSIVE\", \"RECLASSIFY_GROUND\", None, \"COMPUTE_STATS\", \"DEFAULT\", None, \n",
    "                            \"PROCESS_EXTENT\")\n"
   ]
  },
  {
   "cell_type": "code",
   "execution_count": 8,
   "id": "73daeb9f",
   "metadata": {
    "scrolled": true
   },
   "outputs": [
    {
     "data": {
      "text/html": [
       "<h2>Output</h2>a Layer object<h2>Messages</h2>Start Time: Thursday, April 22, 2021 8:30:07 PM<br/>Succeeded at Thursday, April 22, 2021 8:30:07 PM (Elapsed Time: 0.09 seconds)<br/><style>.rendered_html td, .rendered_html th {text-align: left;}.rendered_html tbody {border: 1px solid black;}</style>"
      ],
      "text/plain": [
       "<Result 'Pointcloud_LasDatasetLayer'>"
      ]
     },
     "execution_count": 8,
     "metadata": {},
     "output_type": "execute_result"
    }
   ],
   "source": [
    " \n",
    "if arcpy.Exists(\"Pointcloud_LasDatasetLayer\"):\n",
    "    arcpy.Delete_management(\"Pointcloud_LasDatasetLayer\")\n",
    "    \n",
    "\n",
    "arcpy.management.MakeLasDatasetLayer(las_dataset_path+\"Pointcloud.lasd\", \"Pointcloud_LasDatasetLayer\", \"2\", None, \"INCLUDE_UNFLAGGED\", \"INCLUDE_SYNTHETIC\", \"INCLUDE_KEYPOINT\", \"EXCLUDE_WITHHELD\", None, \"INCLUDE_OVERLAP\")"
   ]
  },
  {
   "cell_type": "code",
   "execution_count": 13,
   "id": "2d65df0f",
   "metadata": {
    "scrolled": true
   },
   "outputs": [
    {
     "data": {
      "text/html": [
       "<h2>Output</h2>C:\\DSM_Tools\\LAS_Processing_Tools\\rasters\\ground_DSM.tif<h2>Messages</h2>Start Time: Thursday, April 22, 2021 8:35:20 PM<br/>Succeeded at Thursday, April 22, 2021 8:35:23 PM (Elapsed Time: 2.60 seconds)<br/><style>.rendered_html td, .rendered_html th {text-align: left;}.rendered_html tbody {border: 1px solid black;}</style>"
      ],
      "text/plain": [
       "<Result 'C:\\\\DSM_Tools\\\\LAS_Processing_Tools\\\\rasters\\\\ground_DSM.tif'>"
      ]
     },
     "execution_count": 13,
     "metadata": {},
     "output_type": "execute_result"
    }
   ],
   "source": [
    "if arcpy.Exists(ground_raster_full_path):\n",
    "    arcpy.Delete_management(ground_raster_full_path)\n",
    "arcpy.conversion.LasDatasetToRaster(\"Pointcloud_LasDatasetLayer\", ground_raster_full_path, \"ELEVATION\", \"BINNING AVERAGE LINEAR\", \"FLOAT\", \"CELLSIZE\", 0.1, 1)\n"
   ]
  },
  {
   "cell_type": "code",
   "execution_count": null,
   "id": "78b0c58a",
   "metadata": {},
   "outputs": [],
   "source": []
  }
 ],
 "metadata": {
  "kernelspec": {
   "display_name": "Python 3",
   "language": "python",
   "name": "python3"
  },
  "language_info": {
   "codemirror_mode": {
    "name": "ipython",
    "version": 3
   },
   "file_extension": ".py",
   "mimetype": "text/x-python",
   "name": "python",
   "nbconvert_exporter": "python",
   "pygments_lexer": "ipython3",
   "version": "3.7.9"
  }
 },
 "nbformat": 4,
 "nbformat_minor": 5
}
